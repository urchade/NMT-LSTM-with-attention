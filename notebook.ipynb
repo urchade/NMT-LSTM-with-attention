{
 "cells": [
  {
   "cell_type": "markdown",
   "metadata": {},
   "source": [
    "# Assignment 2: Neural Machine Translation"
   ]
  },
  {
   "cell_type": "markdown",
   "metadata": {},
   "source": [
    "### Step 0: Download and unzip the dataset"
   ]
  },
  {
   "cell_type": "code",
   "execution_count": 1,
   "metadata": {},
   "outputs": [
    {
     "name": "stdout",
     "output_type": "stream",
     "text": [
      "--2021-04-15 21:59:03--  http://www.manythings.org/anki/fra-eng.zip\n",
      "Résolution de www.manythings.org (www.manythings.org)… 172.67.173.198, 104.21.55.222, 2606:4700:3036::ac43:adc6, ...\n",
      "Connexion à www.manythings.org (www.manythings.org)|172.67.173.198|:80… connecté.\n",
      "requête HTTP transmise, en attente de la réponse… 200 OK\n",
      "Taille : 6281268 (6,0M) [application/zip]\n",
      "Sauvegarde en : « fra-eng.zip.1 »\n",
      "\n",
      "fra-eng.zip.1       100%[===================>]   5,99M  --.-KB/s    ds 0,05s   \n",
      "\n",
      "2021-04-15 21:59:05 (112 MB/s) — « fra-eng.zip.1 » sauvegardé [6281268/6281268]\n",
      "\n",
      "Archive:  fra-eng.zip\n",
      "replace _about.txt? [y]es, [n]o, [A]ll, [N]one, [r]ename: ^C\n"
     ]
    }
   ],
   "source": [
    "# see http://www.manythings.org/anki\n",
    "\n",
    "! wget http://www.manythings.org/anki/fra-eng.zip\n",
    "    \n",
    "! unzip fra-eng.zip"
   ]
  },
  {
   "cell_type": "code",
   "execution_count": 1,
   "metadata": {},
   "outputs": [],
   "source": [
    "import re, string"
   ]
  },
  {
   "cell_type": "markdown",
   "metadata": {},
   "source": [
    "### Step 1: Reading the dataset"
   ]
  },
  {
   "cell_type": "code",
   "execution_count": 2,
   "metadata": {},
   "outputs": [],
   "source": [
    "with open('fra.txt', 'r') as fr:\n",
    "    \n",
    "    nmt_data = []\n",
    "    \n",
    "    for lines in fr.readlines():\n",
    "        splits = lines.split('\\t')\n",
    "        \n",
    "        i = {\n",
    "            'src': splits[1],\n",
    "            'tgt': splits[0]\n",
    "        }\n",
    "        \n",
    "        nmt_data.append(i)"
   ]
  },
  {
   "cell_type": "code",
   "execution_count": 3,
   "metadata": {},
   "outputs": [],
   "source": [
    "## Save vocab_file\n",
    "\n",
    "with open('src_vocab.txt', 'w') as src:\n",
    "    el = ' '.join([a['src'] for a in nmt_data])\n",
    "    src.write(el)\n",
    "\n",
    "with open('tgt_vocab.txt', 'w') as tgt:\n",
    "    el = ' '.join([a['tgt'] for a in nmt_data])\n",
    "    tgt.write(el)"
   ]
  },
  {
   "cell_type": "code",
   "execution_count": 4,
   "metadata": {},
   "outputs": [
    {
     "data": {
      "text/plain": [
       "{'src': \"J'ai payé en espèce.\", 'tgt': 'I paid in cash.'}"
      ]
     },
     "execution_count": 4,
     "metadata": {},
     "output_type": "execute_result"
    }
   ],
   "source": [
    "nmt_data[10000]"
   ]
  },
  {
   "cell_type": "markdown",
   "metadata": {},
   "source": [
    "### Step 3: Setting tokenizers"
   ]
  },
  {
   "cell_type": "code",
   "execution_count": 5,
   "metadata": {},
   "outputs": [],
   "source": [
    "import tokenizers\n",
    "from tokenizers import Tokenizer\n",
    "from tokenizers.pre_tokenizers import Whitespace\n",
    "from tokenizers.models import WordLevel\n",
    "from tokenizers.processors import TemplateProcessing\n",
    "\n",
    "from tokenizers import normalizers\n",
    "from tokenizers.normalizers import Lowercase, NFD, StripAccents"
   ]
  },
  {
   "cell_type": "code",
   "execution_count": 6,
   "metadata": {},
   "outputs": [],
   "source": [
    "def create_tokenizer(vocab_file, vocab_size=30000, single_format='[SOS] $A [EOS]'):\n",
    "    \n",
    "    # Instanciate a trainer\n",
    "    trainer = tokenizers.trainers.WordLevelTrainer(vocab_size=vocab_size, special_tokens=['[PAD]', '[SOS]', '[EOS]', '[UNK]'])\n",
    "    \n",
    "    # Instanciate a tokenizer\n",
    "    tokenizer = Tokenizer(WordLevel(unk_token='[UNK]'))\n",
    "    \n",
    "    # Adding pre-tokenizer\n",
    "    tokenizer.pre_tokenizer = Whitespace()\n",
    "    \n",
    "    # Adding normalizers\n",
    "    tokenizer.normalizer = normalizers.Sequence([Lowercase(), NFD(), StripAccents()])\n",
    "    \n",
    "    # Post-Processing\n",
    "    tokenizer.post_processor = TemplateProcessing(\n",
    "        single=single_format,\n",
    "        special_tokens=[\n",
    "            (\"[SOS]\", 1), \n",
    "            (\"[EOS]\", 2)\n",
    "        ]\n",
    "    )\n",
    "    \n",
    "    # Train\n",
    "    tokenizer.train([vocab_file], trainer)\n",
    "    \n",
    "    return tokenizer"
   ]
  },
  {
   "cell_type": "code",
   "execution_count": 7,
   "metadata": {},
   "outputs": [],
   "source": [
    "src_tokenizer = create_tokenizer('src_vocab.txt', single_format='$A')\n",
    "\n",
    "tgt_tokenizer = create_tokenizer('tgt_vocab.txt', single_format='[SOS] $A [EOS]')"
   ]
  },
  {
   "cell_type": "code",
   "execution_count": 8,
   "metadata": {},
   "outputs": [],
   "source": [
    "def switch_mode(tokenizer, max_len=200):\n",
    "    tokenizer.enable_truncation(max_len)\n",
    "    tokenizer.enable_padding()"
   ]
  },
  {
   "cell_type": "code",
   "execution_count": 9,
   "metadata": {},
   "outputs": [
    {
     "data": {
      "text/plain": [
       "[7767, 3, 8091, 21745, 4]"
      ]
     },
     "execution_count": 9,
     "metadata": {},
     "output_type": "execute_result"
    }
   ],
   "source": [
    "src_tokenizer.encode(nmt_data[10000]['tgt']).ids"
   ]
  },
  {
   "cell_type": "markdown",
   "metadata": {},
   "source": [
    "### Step 4: Creating dataset and dataloaders"
   ]
  },
  {
   "cell_type": "code",
   "execution_count": 34,
   "metadata": {},
   "outputs": [],
   "source": [
    "# import librairies ...\n",
    "import torch\n",
    "from torch.utils.data import Dataset, DataLoader, random_split\n",
    "import seaborn as sns"
   ]
  },
  {
   "cell_type": "code",
   "execution_count": 11,
   "metadata": {},
   "outputs": [],
   "source": [
    "class NMTdata(Dataset):\n",
    "    \n",
    "    def __init__(self, data):\n",
    "        \n",
    "        self.data = data\n",
    "        \n",
    "    def __len__(self):\n",
    "        \n",
    "        return len(self.data)\n",
    "    \n",
    "    def __getitem__(self, idx):\n",
    "        \n",
    "        current = self.data[idx]\n",
    "        \n",
    "        return current['src'], current['tgt']"
   ]
  },
  {
   "cell_type": "code",
   "execution_count": 12,
   "metadata": {},
   "outputs": [],
   "source": [
    "tt = NMTdata(nmt_data)"
   ]
  },
  {
   "cell_type": "code",
   "execution_count": 13,
   "metadata": {},
   "outputs": [],
   "source": [
    "def collate(batch):\n",
    "    \n",
    "    src = [item[0] for item in batch]\n",
    "    tgt = [item[1] for item in batch]\n",
    "    \n",
    "    switch_mode(src_tokenizer)\n",
    "    switch_mode(tgt_tokenizer)\n",
    "    \n",
    "    src = src_tokenizer.encode_batch(src)\n",
    "    src = torch.LongTensor([i.ids for i in src])\n",
    "    \n",
    "    tgt = tgt_tokenizer.encode_batch(tgt)\n",
    "    tgt = torch.LongTensor([i.ids for i in tgt])\n",
    "                \n",
    "    return [src, tgt]"
   ]
  },
  {
   "cell_type": "code",
   "execution_count": 14,
   "metadata": {},
   "outputs": [
    {
     "name": "stdout",
     "output_type": "stream",
     "text": [
      "185583\n"
     ]
    }
   ],
   "source": [
    "all_dataset = NMTdata(nmt_data)\n",
    "\n",
    "print(len(all_dataset))\n",
    "\n",
    "train, val = random_split(all_dataset, [len(all_dataset)-5000, 5000])\n",
    "\n",
    "train_loader = DataLoader(train, batch_size=256, shuffle=True, collate_fn=collate, num_workers=15)\n",
    "\n",
    "val_loader = DataLoader(val, batch_size=512, shuffle=False, collate_fn=collate, num_workers=11)"
   ]
  },
  {
   "cell_type": "markdown",
   "metadata": {},
   "source": [
    "### Step 4: Creating Encoder Decoder model\n",
    "\n",
    "same as bahdanau et al., 2015 (https://arxiv.org/abs/1409.0473)\n",
    "\n",
    "* bi-GRU as Encoder: the formard method should return a tensor containing all the encoder's hidden states (context vectors)\n",
    "* Use/Implement attention mecanism (bahdanau, dot product, bilinear, ...)\n",
    "* GRU as Decoder: the formard method should return the predicted sequence, the last hidden state of the decoder and the attention vector at each timesteps\n",
    "\n",
    "See Notebook 014-3 for inspiration ..."
   ]
  },
  {
   "cell_type": "code",
   "execution_count": 16,
   "metadata": {},
   "outputs": [],
   "source": [
    "### import modules\n",
    "import numpy as np\n",
    "from torch import nn\n",
    "import torch.nn.functional as F\n",
    "\n",
    "from transformer_utils import get_masks"
   ]
  },
  {
   "cell_type": "code",
   "execution_count": 17,
   "metadata": {},
   "outputs": [],
   "source": [
    "# standard dot product attention\n",
    "\n",
    "def attention(query, key, value, mask=None):\n",
    "    \n",
    "    d_model = query.size(-1)\n",
    "    \n",
    "    score = query @ key.transpose(-1, -2) / np.sqrt(d_model)\n",
    "    \n",
    "    ## mask and score have to be broadcastable\n",
    "    ## For understanding array broadcasting see https://numpy.org/doc/stable/user/basics.broadcasting.html\n",
    "    if mask != None:\n",
    "        score = score.masked_fill_(mask == 0, float('-inf'))\n",
    "\n",
    "    normalized_score = torch.softmax(score, dim=-1)\n",
    "    \n",
    "    output = normalized_score @ value\n",
    "        \n",
    "    return output, normalized_score"
   ]
  },
  {
   "cell_type": "code",
   "execution_count": 19,
   "metadata": {},
   "outputs": [],
   "source": [
    "class DoubleRNN(nn.Module):\n",
    "    def __init__(self, d_model):\n",
    "        super().__init__()\n",
    "        \n",
    "        self.rnn_1 = nn.GRU(d_model, d_model, batch_first=True, bidirectional=True, dropout=0.1)\n",
    "        self.rnn_2 = nn.GRU(d_model * 2, d_model, batch_first=True, dropout=0.1)\n",
    "        \n",
    "    def forward(self, x, seq_len):\n",
    "        \n",
    "        x = nn.utils.rnn.pack_padded_sequence(x, seq_len, batch_first=True, enforce_sorted=False)\n",
    "        \n",
    "        x, h = self.rnn_1(x)\n",
    "                \n",
    "        x, h = self.rnn_2(x)\n",
    "        \n",
    "        x, _ = nn.utils.rnn.pad_packed_sequence(x, batch_first=True)\n",
    "                \n",
    "        return x, h # [batch_size, len, dim]"
   ]
  },
  {
   "cell_type": "code",
   "execution_count": 23,
   "metadata": {},
   "outputs": [],
   "source": [
    "class NMTmodel(nn.Module):\n",
    "    def __init__(self, src_vocab=src_tokenizer.get_vocab_size(), tgt_vocab=tgt_tokenizer.get_vocab_size(), d_model=512):\n",
    "        super().__init__()\n",
    "        \n",
    "        self.tgt_vocab = tgt_vocab\n",
    "        \n",
    "        self.drop = nn.Dropout(0.1)\n",
    "        \n",
    "        self.scr_embedding = nn.Embedding(src_vocab, d_model, padding_idx=0)\n",
    "        \n",
    "        self.tgt_embedding = nn.Embedding(tgt_vocab, d_model, padding_idx=0)\n",
    "                \n",
    "        self.rnn_encoder = DoubleRNN(d_model)\n",
    "        \n",
    "        self.rnn_decoder = nn.GRUCell(d_model, d_model)\n",
    "        \n",
    "        self.fc = nn.Sequential(\n",
    "            nn.Linear(d_model, d_model * 2),\n",
    "            nn.ReLU(),\n",
    "            nn.Dropout(0.1),\n",
    "            nn.Linear(d_model * 2, tgt_vocab)\n",
    "        )\n",
    "        \n",
    "    def encode(self, x):\n",
    "        \n",
    "        mask, _ = get_masks(x)\n",
    "        \n",
    "        x_emb = self.drop(self.scr_embedding(x))\n",
    "        \n",
    "        lens = mask.sum(-1).squeeze().cpu()\n",
    "                \n",
    "        context, h = self.rnn_encoder(x_emb, lens) # bs, len, dim * 2\n",
    "        \n",
    "        bs, slen, _ = context.size()\n",
    "        \n",
    "        return context, h, mask\n",
    "    \n",
    "    def decode_step(self, y_t, context, h_t, mask=None):\n",
    "            \n",
    "        y_t = self.drop(self.tgt_embedding(y_t))\n",
    "                \n",
    "        h_t = self.rnn_decoder(y_t, h_t)\n",
    "        \n",
    "        output, normalized_score = attention(h_t.unsqueeze(1), context, context, mask)\n",
    "        \n",
    "        pred = self.fc(output)\n",
    "        \n",
    "        return pred, normalized_score, h_t\n",
    "    \n",
    "    \n",
    "    def decode(self, y, context, h_t=None, mask=None):\n",
    "            \n",
    "        bs, slen = y.size()\n",
    "                \n",
    "        outs = []\n",
    "                \n",
    "        for t in range(slen):\n",
    "            \n",
    "            pred, normalized_score, h_t = self.decode_step(y[:, t], context, h_t, mask)\n",
    "            \n",
    "            outs.append(pred)\n",
    "        \n",
    "        pred = torch.cat(outs, dim=1)\n",
    "        \n",
    "        return pred\n",
    "            \n",
    "            \n",
    "    def teacher_forcing_enc_dec(self, x, y):\n",
    "        \n",
    "        context, h, mask = self.encode(x)\n",
    "        \n",
    "        outs = self.decode(y, context, h.squeeze(0), mask=mask)\n",
    "        \n",
    "        return outs\n",
    "        \n",
    "    def forward(self, src, tgt):\n",
    "        raise NotImplementedError\n",
    "        \n",
    "    def compute_loss(self, x, y):\n",
    "        \n",
    "        pred = self.teacher_forcing_enc_dec(x, y[:, :-1])\n",
    "        \n",
    "        y = y[:, 1:]\n",
    "        \n",
    "        y = y.reshape(-1)\n",
    "        \n",
    "        pred = pred.view(-1, self.tgt_vocab)\n",
    "        \n",
    "        loss = F.cross_entropy(pred, y, ignore_index=0)\n",
    "        \n",
    "        return loss"
   ]
  },
  {
   "cell_type": "code",
   "execution_count": 24,
   "metadata": {},
   "outputs": [],
   "source": [
    "model = NMTmodel()"
   ]
  },
  {
   "cell_type": "code",
   "execution_count": 25,
   "metadata": {},
   "outputs": [],
   "source": [
    "for x, y in train_loader:\n",
    "    y = model.compute_loss(x, y)\n",
    "    break"
   ]
  },
  {
   "cell_type": "markdown",
   "metadata": {},
   "source": [
    "### Step 5: Train the model"
   ]
  },
  {
   "cell_type": "code",
   "execution_count": 26,
   "metadata": {},
   "outputs": [],
   "source": [
    "from tqdm import tqdm\n",
    "\n",
    "def train_one_epoch(net: nn.Module, opt: torch.optim, dataloader: torch.utils.data.DataLoader):\n",
    "    \n",
    "    net.train()\n",
    "    \n",
    "    for param in net.parameters():\n",
    "        device = param.device\n",
    "        break\n",
    "    \n",
    "    losses = []\n",
    "    \n",
    "    pbar = tqdm(dataloader)\n",
    "    \n",
    "    for x, y in pbar:\n",
    "\n",
    "        net.zero_grad()\n",
    "\n",
    "        x, y = x.to(device), y.to(device)\n",
    "\n",
    "        loss = net.compute_loss(x, y)\n",
    "\n",
    "        loss.backward()\n",
    "\n",
    "        opt.step()\n",
    "        \n",
    "        loss_item = loss.item()\n",
    "        \n",
    "        losses.append(loss_item)\n",
    "        \n",
    "        pbar.set_description(f'train_loss = {np.array(losses).mean()}')\n",
    "        \n",
    "    return np.array(losses).mean()\n",
    "\n",
    "@torch.no_grad()\n",
    "def validate(net: nn.Module, dataloader: torch.utils.data.DataLoader):\n",
    "    \n",
    "    net.eval()\n",
    "    \n",
    "    for param in net.parameters():\n",
    "        device = param.device\n",
    "        break\n",
    "     \n",
    "    losses = []\n",
    "    \n",
    "    for x, y in dataloader:\n",
    "\n",
    "        x, y = x.to(device), y.to(device)\n",
    "\n",
    "        loss = net.compute_loss(x, y)\n",
    "        \n",
    "        losses.append(loss.item())\n",
    "                    \n",
    "    return np.array(losses).mean()"
   ]
  },
  {
   "cell_type": "code",
   "execution_count": 27,
   "metadata": {},
   "outputs": [],
   "source": [
    "model = NMTmodel().cuda()\n",
    "\n",
    "opt = torch.optim.AdamW(model.parameters(), lr=1e-4)"
   ]
  },
  {
   "cell_type": "code",
   "execution_count": 28,
   "metadata": {},
   "outputs": [
    {
     "name": "stderr",
     "output_type": "stream",
     "text": [
      "  0%|          | 0/706 [00:00<?, ?it/s]"
     ]
    },
    {
     "name": "stdout",
     "output_type": "stream",
     "text": [
      "9.590476989746094\n"
     ]
    },
    {
     "name": "stderr",
     "output_type": "stream",
     "text": [
      "train_loss = 4.401522872130526: 100%|██████████| 706/706 [03:15<00:00,  3.61it/s] \n",
      "  0%|          | 0/706 [00:00<?, ?it/s]"
     ]
    },
    {
     "name": "stdout",
     "output_type": "stream",
     "text": [
      "3.393892455101013\n"
     ]
    },
    {
     "name": "stderr",
     "output_type": "stream",
     "text": [
      "train_loss = 3.120895153064566: 100%|██████████| 706/706 [07:44<00:00,  1.52it/s] \n",
      "  0%|          | 0/706 [00:00<?, ?it/s]"
     ]
    },
    {
     "name": "stdout",
     "output_type": "stream",
     "text": [
      "2.8132535457611083\n"
     ]
    },
    {
     "name": "stderr",
     "output_type": "stream",
     "text": [
      "train_loss = 2.6220931794082816: 100%|██████████| 706/706 [08:44<00:00,  1.34it/s]\n",
      "  0%|          | 0/706 [00:00<?, ?it/s]"
     ]
    },
    {
     "name": "stdout",
     "output_type": "stream",
     "text": [
      "2.4075923919677735\n"
     ]
    },
    {
     "name": "stderr",
     "output_type": "stream",
     "text": [
      "train_loss = 2.2522229010255073: 100%|██████████| 706/706 [08:37<00:00,  1.36it/s]\n",
      "  0%|          | 0/706 [00:00<?, ?it/s]"
     ]
    },
    {
     "name": "stdout",
     "output_type": "stream",
     "text": [
      "2.113707661628723\n"
     ]
    },
    {
     "name": "stderr",
     "output_type": "stream",
     "text": [
      "train_loss = 1.9578542437499373: 100%|██████████| 706/706 [09:30<00:00,  1.24it/s]\n",
      "  0%|          | 0/706 [00:00<?, ?it/s]"
     ]
    },
    {
     "name": "stdout",
     "output_type": "stream",
     "text": [
      "1.8759214520454406\n"
     ]
    },
    {
     "name": "stderr",
     "output_type": "stream",
     "text": [
      "train_loss = 1.7138013561116399: 100%|██████████| 706/706 [09:33<00:00,  1.23it/s]\n",
      "  0%|          | 0/706 [00:00<?, ?it/s]"
     ]
    },
    {
     "name": "stdout",
     "output_type": "stream",
     "text": [
      "1.6932036995887756\n"
     ]
    },
    {
     "name": "stderr",
     "output_type": "stream",
     "text": [
      "train_loss = 1.5162221044724116: 100%|██████████| 706/706 [09:02<00:00,  1.30it/s]\n",
      "  0%|          | 0/706 [00:00<?, ?it/s]"
     ]
    },
    {
     "name": "stdout",
     "output_type": "stream",
     "text": [
      "1.549120008945465\n"
     ]
    },
    {
     "name": "stderr",
     "output_type": "stream",
     "text": [
      "train_loss = 1.3576835015677866: 100%|██████████| 706/706 [08:29<00:00,  1.38it/s]\n",
      "  0%|          | 0/706 [00:00<?, ?it/s]"
     ]
    },
    {
     "name": "stdout",
     "output_type": "stream",
     "text": [
      "1.449587070941925\n"
     ]
    },
    {
     "name": "stderr",
     "output_type": "stream",
     "text": [
      "train_loss = 1.2284283663328242: 100%|██████████| 706/706 [09:14<00:00,  1.27it/s]\n",
      "  0%|          | 0/706 [00:00<?, ?it/s]"
     ]
    },
    {
     "name": "stdout",
     "output_type": "stream",
     "text": [
      "1.3728409647941588\n"
     ]
    },
    {
     "name": "stderr",
     "output_type": "stream",
     "text": [
      "train_loss = 1.1214582285192127: 100%|██████████| 706/706 [09:32<00:00,  1.23it/s]\n"
     ]
    },
    {
     "name": "stdout",
     "output_type": "stream",
     "text": [
      "1.3114278316497803\n"
     ]
    }
   ],
   "source": [
    "model.cuda()\n",
    "\n",
    "for i in range(10):\n",
    "    \n",
    "    if i==0:\n",
    "        print(validate(model, val_loader))\n",
    "        \n",
    "    train_one_epoch(model, opt, train_loader)\n",
    "    \n",
    "    print(validate(model, val_loader))"
   ]
  },
  {
   "cell_type": "code",
   "execution_count": 29,
   "metadata": {},
   "outputs": [
    {
     "name": "stdout",
     "output_type": "stream",
     "text": [
      "ok\n"
     ]
    }
   ],
   "source": [
    "# go to cpu for prediction mode\n",
    "\n",
    "model.cpu()\n",
    "model.eval()\n",
    "\n",
    "print('ok')"
   ]
  },
  {
   "cell_type": "markdown",
   "metadata": {},
   "source": [
    "### Step 6: Prediction and attention visualization"
   ]
  },
  {
   "cell_type": "code",
   "execution_count": 76,
   "metadata": {},
   "outputs": [],
   "source": [
    "## see notebook 014-3 for inspiration\n",
    "\n",
    "@torch.no_grad()\n",
    "def translate(french):\n",
    "    \n",
    "    src = torch.LongTensor(src_tokenizer.encode(french).ids).unsqueeze(0)\n",
    "        \n",
    "    y = torch.LongTensor([1])\n",
    "    \n",
    "    lens = torch.LongTensor([src.size()[1]])\n",
    "        \n",
    "    context = model.scr_embedding(src)\n",
    "        \n",
    "    context, h_t = model.rnn_encoder(context, lens)\n",
    "    \n",
    "    print(src.shape)\n",
    "        \n",
    "    sequences = []\n",
    "    att = []\n",
    "    \n",
    "    while True and len(sequences) < 20:\n",
    "            \n",
    "        pred, normalized_score, h_t = model.decode_step(y, context, h_t.squeeze(1))\n",
    "                \n",
    "        pred = torch.argmax(pred, -1).item()\n",
    "        \n",
    "        if pred == 2: # stop when eos\n",
    "            break\n",
    "            \n",
    "        att.append(normalized_score)\n",
    "        \n",
    "        sequences.append(pred)\n",
    "        \n",
    "        y = torch.LongTensor([pred])\n",
    "        \n",
    "    att = torch.cat(att, dim=1)\n",
    "    \n",
    "    print(att.shape)\n",
    "            \n",
    "    return tgt_tokenizer.decode(sequences), att.squeeze().numpy()"
   ]
  },
  {
   "cell_type": "code",
   "execution_count": 77,
   "metadata": {},
   "outputs": [
    {
     "data": {
      "text/plain": [
       "'Fais court.'"
      ]
     },
     "execution_count": 77,
     "metadata": {},
     "output_type": "execute_result"
    }
   ],
   "source": [
    "nmt_data[val.indices[0]]['src']"
   ]
  },
  {
   "cell_type": "code",
   "execution_count": 98,
   "metadata": {},
   "outputs": [
    {
     "name": "stdout",
     "output_type": "stream",
     "text": [
      "source: Je pensais que vous seriez rentrées chez vous.\n",
      "target: I thought you'd gone home.\n",
      "torch.Size([1, 9])\n",
      "torch.Size([1, 8, 9])\n",
      "pred: i thought you ' d be home .\n"
     ]
    }
   ],
   "source": [
    "example = nmt_data[val.indices[np.random.randint(0, 5000)]]\n",
    "\n",
    "print('source:', example['src'])\n",
    "\n",
    "print('target:', example['tgt'])\n",
    "\n",
    "pred, att = translate(example['src'])\n",
    "\n",
    "print('pred:', pred)"
   ]
  },
  {
   "cell_type": "code",
   "execution_count": 99,
   "metadata": {},
   "outputs": [
    {
     "data": {
      "text/plain": [
       "<AxesSubplot:>"
      ]
     },
     "execution_count": 99,
     "metadata": {},
     "output_type": "execute_result"
    },
    {
     "data": {
      "image/png": "[encoded data removed]",
      "text/plain": [
       "<Figure size 432x288 with 2 Axes>"
      ]
     },
     "metadata": {
      "needs_background": "light"
     },
     "output_type": "display_data"
    }
   ],
   "source": [
    "sns.heatmap(att, cmap='Greys', yticklabels=pred.split(' '), xticklabels=src_tokenizer.encode(example['src']).tokens)"
   ]
  },
  {
   "cell_type": "markdown",
   "metadata": {},
   "source": [
    "### Step 7 (bonus): Evalute the model performance using BLEU metric"
   ]
  },
  {
   "cell_type": "code",
   "execution_count": null,
   "metadata": {},
   "outputs": [],
   "source": []
  }
 ],
 "metadata": {
  "kernelspec": {
   "display_name": "py37_UZA",
   "language": "python",
   "name": "py37_uza"
  },
  "language_info": {
   "codemirror_mode": {
    "name": "ipython",
    "version": 3
   },
   "file_extension": ".py",
   "mimetype": "text/x-python",
   "name": "python",
   "nbconvert_exporter": "python",
   "pygments_lexer": "ipython3",
   "version": "3.7.9"
  }
 },
 "nbformat": 4,
 "nbformat_minor": 4
}
